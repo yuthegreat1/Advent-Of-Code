{
 "cells": [
  {
   "cell_type": "code",
   "execution_count": 204,
   "id": "bdb82e87",
   "metadata": {},
   "outputs": [],
   "source": [
    "import pandas as pd\n",
    "import numpy as np"
   ]
  },
  {
   "cell_type": "code",
   "execution_count": 205,
   "id": "6410b804",
   "metadata": {
    "scrolled": false
   },
   "outputs": [
    {
     "data": {
      "text/plain": [
       "[6758.0,\n",
       " 5199.0,\n",
       " 10292.0,\n",
       " 8812.0,\n",
       " 3527.0,\n",
       " 10178.0,\n",
       " 1340.0,\n",
       " 2824.0,\n",
       " 'skip',\n",
       " 62522.0,\n",
       " 'skip',\n",
       " 22990.0,\n",
       " 'skip',\n",
       " 6730.0,\n",
       " 'skip',\n",
       " 7255.0,\n",
       " 3210.0,\n",
       " 3003.0,\n",
       " 8296.0,\n",
       " 8799.0]"
      ]
     },
     "execution_count": 205,
     "metadata": {},
     "output_type": "execute_result"
    }
   ],
   "source": [
    "elf_input = pd.read_csv(\"input.txt\",skip_blank_lines=False,header = None)\n",
    "elf_input_skip = elf_input.replace(np.nan, \"skip\")\n",
    "cleaned_elf_input = elf_input_skip[0].to_list()\n",
    "cleaned_elf_input[:20]"
   ]
  },
  {
   "cell_type": "code",
   "execution_count": 206,
   "id": "11f0ba9d",
   "metadata": {},
   "outputs": [],
   "source": [
    "def FindMax(elf_input):\n",
    "    storage = []\n",
    "    max_elf = [-1,-1, -1] #highest elf, highest elf calories, index of elf\n",
    "    curr_elf = 0\n",
    "    curr_sum = 0\n",
    "    for i in range(len(elf_input)):\n",
    "        if elf_input[i] == \"skip\": # we reach a new elf\n",
    "            if curr_sum > max_elf[1]:\n",
    "                max_elf = [curr_elf , curr_sum , i]\n",
    "            storage.append(curr_sum)\n",
    "            curr_sum = 0\n",
    "            curr_elf += 1\n",
    "        else:\n",
    "            curr_sum += elf_input[i]\n",
    "    return max_elf, storage"
   ]
  },
  {
   "cell_type": "code",
   "execution_count": 208,
   "id": "4c42b32c",
   "metadata": {},
   "outputs": [
    {
     "data": {
      "text/plain": [
       "209603.0"
      ]
     },
     "execution_count": 208,
     "metadata": {},
     "output_type": "execute_result"
    }
   ],
   "source": [
    "first,rest = FindMax(cleaned_elf_input)\n",
    "rest.sort(reverse = True)\n",
    "sum(rest[:3])"
   ]
  },
  {
   "cell_type": "code",
   "execution_count": null,
   "id": "53a7adbf",
   "metadata": {},
   "outputs": [],
   "source": []
  }
 ],
 "metadata": {
  "kernelspec": {
   "display_name": "Python 3 (ipykernel)",
   "language": "python",
   "name": "python3"
  },
  "language_info": {
   "codemirror_mode": {
    "name": "ipython",
    "version": 3
   },
   "file_extension": ".py",
   "mimetype": "text/x-python",
   "name": "python",
   "nbconvert_exporter": "python",
   "pygments_lexer": "ipython3",
   "version": "3.8.5"
  }
 },
 "nbformat": 4,
 "nbformat_minor": 5
}
